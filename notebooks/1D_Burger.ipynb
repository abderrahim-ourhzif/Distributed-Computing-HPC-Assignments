{
 "cells": [
  {
   "cell_type": "markdown",
   "metadata": {},
   "source": [
    "## Imports"
   ]
  },
  {
   "cell_type": "code",
   "execution_count": 1,
   "metadata": {},
   "outputs": [],
   "source": [
    "import numpy as np\n",
    "import sympy as sp\n",
    "from sympy.utilities.lambdify import lambdify\n",
    "\n",
    "from sympy import init_printing\n",
    "init_printing(use_latex=True)\n",
    "import matplotlib.pyplot as plt\n",
    "\n",
    "import time\n",
    "\n",
    "from numba import njit\n",
    "from pyccel.epyccel import epyccel\n",
    "from pyccel.decorators import types\n",
    "\n",
    "#fill the libraries import\n",
    "#..."
   ]
  },
  {
   "cell_type": "markdown",
   "metadata": {},
   "source": [
    "## Pure python function"
   ]
  },
  {
   "cell_type": "code",
   "execution_count": 2,
   "metadata": {},
   "outputs": [],
   "source": [
    "def solve_1d_burger_pure(u, un, nt, nx, dt, dx, nu):\n",
    "    #fill the update of u\n",
    "    #...\n",
    "    for n in range(nt):\n",
    "        for i in range(1,nx-1):\n",
    "            u[i]=u[i]-u[i]*dt/dx*(u[i]-u[i-1])+nu*dt/(dx**2)*(u[i+1]-2*u[i]+u[i-1])\n",
    "        un[:]=u[:]\n",
    "        u[:]=un[:]\n",
    "    return 0"
   ]
  },
  {
   "cell_type": "markdown",
   "metadata": {},
   "source": [
    "## Numba accelerator"
   ]
  },
  {
   "cell_type": "code",
   "execution_count": 11,
   "metadata": {},
   "outputs": [],
   "source": [
    "#add the numba decorator to accelerate code\n",
    "@njit(fastmath=True,parallel=True)\n",
    "def solve_1d_burger_numba(u, un, nt, nx, dt, dx, nu):\n",
    "    #fill the update of u\n",
    "    #...\n",
    "    for n in range(nt):\n",
    "        for i in range(1,nx-1):\n",
    "            u[i]=u[i]-u[i]*dt/dx*(u[i]-u[i-1])+nu*dt/(dx**2)*(u[i+1]-2*u[i]+u[i-1])\n",
    "        un[:]=u[:]\n",
    "        u[:]=un[:]\n",
    "        \n",
    "    return 0"
   ]
  },
  {
   "cell_type": "markdown",
   "metadata": {},
   "source": [
    "## Pyccel accelerator"
   ]
  },
  {
   "cell_type": "code",
   "execution_count": 12,
   "metadata": {},
   "outputs": [],
   "source": [
    "#add the pyccel decorator to accelerate code\n",
    "@types('float[:]','float[:]', 'int', 'int', 'float','float', 'float')\n",
    "def solve_1d_burger_pyccel(u, un, nt, nx, dt, dx, nu):\n",
    "    #fill the update of u\n",
    "    #...\n",
    "    for n in range(nt):\n",
    "        for i in range(1,nx-1):\n",
    "            u[i]=u[i]-u[i]*dt/dx*(u[i]-u[i-1])+nu*dt/(dx**2)*(u[i+1]-2*u[i]+u[i-1])\n",
    "        un[:]=u[:]\n",
    "        u[:]=un[:]\n",
    "        \n",
    "    return 0"
   ]
  },
  {
   "cell_type": "markdown",
   "metadata": {},
   "source": [
    "## Inputs"
   ]
  },
  {
   "cell_type": "code",
   "execution_count": 13,
   "metadata": {},
   "outputs": [],
   "source": [
    "#sympy computation\n",
    "x, nu, t = sp.symbols('x nu t')\n",
    "phi = (sp.exp(-(x - 4 * t)**2 / (4 * nu * (t + 1))) +\n",
    "       sp.exp(-(x - 4 * t - 2 * sp.pi)**2 / (4 * nu * (t + 1))))\n",
    "\n",
    "phiprime = phi.diff(x)\n",
    "u = -2 * nu * (phiprime / phi) + 4\n",
    "ufunc = lambdify((t, x, nu), u)"
   ]
  },
  {
   "cell_type": "code",
   "execution_count": 14,
   "metadata": {},
   "outputs": [],
   "source": [
    "###variable declarations\n",
    "nx = 200\n",
    "nt = 200\n",
    "dx = 2 * np.pi / (nx - 1)\n",
    "nu = .07\n",
    "dt = dx * nu\n",
    "\n",
    "x = np.linspace(0, 2 * np.pi, nx)\n",
    "un = np.empty(nx)\n",
    "t = 0"
   ]
  },
  {
   "cell_type": "markdown",
   "metadata": {},
   "source": [
    "## Plot initial condition"
   ]
  },
  {
   "cell_type": "code",
   "execution_count": 15,
   "metadata": {},
   "outputs": [
    {
     "data": {
      "image/png": "[encoded data removed]",
      "text/plain": [
       "<Figure size 432x288 with 1 Axes>"
      ]
     },
     "metadata": {
      "needs_background": "light"
     },
     "output_type": "display_data"
    }
   ],
   "source": [
    "u = np.asarray([ufunc(t, x0, nu) for x0 in x])\n",
    "plt.figure()\n",
    "plt.plot(x, u, marker='o', lw=2)\n",
    "plt.xlim([0, 2 * np.pi])\n",
    "plt.ylim([0, 10]);"
   ]
  },
  {
   "cell_type": "code",
   "execution_count": 16,
   "metadata": {},
   "outputs": [
    {
     "data": {
      "image/png": "[encoded data removed]",
      "text/plain": [
       "<Figure size 432x288 with 1 Axes>"
      ]
     },
     "metadata": {
      "needs_background": "light"
     },
     "output_type": "display_data"
    }
   ],
   "source": [
    "solve_1d_burger_pure(u, un, nt, nx, dt, dx, nu)\n",
    "\n",
    "# Analytical solution\n",
    "u_analytical = np.asarray([ufunc(nt * dt, xi, nu) for xi in x])\n",
    "\n",
    "\n",
    "#Plotting data\n",
    "plt.figure()\n",
    "plt.plot(x,u, marker='o', lw=2, label='Computational')\n",
    "plt.plot(x, u_analytical, label='Analytical')\n",
    "plt.xlim([0, 2 * np.pi])\n",
    "plt.ylim([0, 10])\n",
    "plt.legend();"
   ]
  },
  {
   "cell_type": "markdown",
   "metadata": {},
   "source": [
    "## Call Funtions"
   ]
  },
  {
   "cell_type": "markdown",
   "metadata": {},
   "source": [
    "### Pure function"
   ]
  },
  {
   "cell_type": "code",
   "execution_count": 17,
   "metadata": {},
   "outputs": [
    {
     "name": "stdout",
     "output_type": "stream",
     "text": [
      "212 ms ± 12.4 ms per loop (mean ± std. dev. of 7 runs, 1 loop each)\n"
     ]
    }
   ],
   "source": [
    "%timeit solve_1d_burger_pure(u, un, nt, nx, dt, dx, nu)"
   ]
  },
  {
   "cell_type": "markdown",
   "metadata": {},
   "source": [
    "### Function with numba accelerator"
   ]
  },
  {
   "cell_type": "code",
   "execution_count": 18,
   "metadata": {},
   "outputs": [
    {
     "name": "stdout",
     "output_type": "stream",
     "text": [
      "The slowest run took 7.89 times longer than the fastest. This could mean that an intermediate result is being cached.\n",
      "58.9 ms ± 27.5 ms per loop (mean ± std. dev. of 7 runs, 1 loop each)\n"
     ]
    }
   ],
   "source": [
    "%timeit solve_1d_burger_numba(u, un, nt, nx, dt, dx, nu)"
   ]
  },
  {
   "cell_type": "markdown",
   "metadata": {},
   "source": [
    "### Function with pyccel accelerator"
   ]
  },
  {
   "cell_type": "code",
   "execution_count": 19,
   "metadata": {},
   "outputs": [
    {
     "name": "stdout",
     "output_type": "stream",
     "text": [
      "348 µs ± 420 ns per loop (mean ± std. dev. of 7 runs, 1000 loops each)\n"
     ]
    }
   ],
   "source": [
    "solve_1d_burger_f90 = epyccel(solve_1d_burger_pyccel)\n",
    "%timeit solve_1d_burger_f90(u, un, nt, nx, dt, dx, nu)"
   ]
  },
  {
   "cell_type": "code",
   "execution_count": null,
   "metadata": {},
   "outputs": [],
   "source": []
  },
  {
   "cell_type": "code",
   "execution_count": null,
   "metadata": {},
   "outputs": [],
   "source": []
  },
  {
   "cell_type": "code",
   "execution_count": null,
   "metadata": {},
   "outputs": [],
   "source": []
  },
  {
   "cell_type": "code",
   "execution_count": null,
   "metadata": {},
   "outputs": [],
   "source": []
  },
  {
   "cell_type": "code",
   "execution_count": null,
   "metadata": {},
   "outputs": [],
   "source": []
  }
 ],
 "metadata": {
  "kernelspec": {
   "display_name": "Python 3",
   "language": "python",
   "name": "python3"
  },
  "language_info": {
   "codemirror_mode": {
    "name": "ipython",
    "version": 3
   },
   "file_extension": ".py",
   "mimetype": "text/x-python",
   "name": "python",
   "nbconvert_exporter": "python",
   "pygments_lexer": "ipython3",
   "version": "3.8.5"
  }
 },
 "nbformat": 4,
 "nbformat_minor": 2
}
