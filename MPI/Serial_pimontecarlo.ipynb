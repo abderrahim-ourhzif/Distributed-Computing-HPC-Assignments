{
 "cells": [
  {
   "cell_type": "code",
   "execution_count": 4,
   "metadata": {},
   "outputs": [],
   "source": [
    "import random\n",
    "import numpy as np\n",
    "import timeit\n",
    "from mpi4py import MPI\n",
    "\n",
    "COMM = MPI.COMM_WORLD\n",
    "rank = COMM.Get_rank()\n",
    "p=COMM.Get_size()\n",
    "tag=99\n",
    "\n",
    "def f(x):\n",
    "    return np.sin(x)\n",
    "    \n",
    "a=0\n",
    "b=np.pi # b>a\n",
    "inter=100\n",
    "x=np.linspace(a,b,inter)\n",
    "y=f(x)\n",
    "fmin=min(y)\n",
    "fmax=max(y)\n",
    "Area_rectangle=abs(b-a)*abs(fmax-fmin)\n",
    "nbi=int(inter/p)\n",
    "if p==rank+1:\n",
    "    nbi=nbi+(inter)%p   \n",
    "\n",
    "\n",
    "def Integration_de_MonteCarlo():\n",
    "    random.seed(45)\n",
    "    pr=0\n",
    "    for i in range(nbi):\n",
    "        # 0<= random.random() <=1\n",
    "        x_random=a+(b-a)*random.random()\n",
    "        y_random=fmin+(fmax-fmin)*random.random()\n",
    "        if y_random<=f(x_random):\n",
    "            pr+=1\n",
    "    return pr"
   ]
  },
  {
   "cell_type": "code",
   "execution_count": null,
   "metadata": {},
   "outputs": [],
   "source": []
  }
 ],
 "metadata": {
  "kernelspec": {
   "display_name": "Python 3",
   "language": "python",
   "name": "python3"
  },
  "language_info": {
   "codemirror_mode": {
    "name": "ipython",
    "version": 3
   },
   "file_extension": ".py",
   "mimetype": "text/x-python",
   "name": "python",
   "nbconvert_exporter": "python",
   "pygments_lexer": "ipython3",
   "version": "3.8.5"
  }
 },
 "nbformat": 4,
 "nbformat_minor": 4
}
