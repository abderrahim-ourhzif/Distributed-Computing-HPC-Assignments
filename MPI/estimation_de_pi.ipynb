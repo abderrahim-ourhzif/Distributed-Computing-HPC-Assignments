{
 "cells": [
  {
   "cell_type": "code",
   "execution_count": 2,
   "metadata": {},
   "outputs": [
    {
     "name": "stdout",
     "output_type": "stream",
     "text": [
      "approche de Pi= 3.1392 \n",
      " le temp de l'exicution 0.03684239200083539\n"
     ]
    }
   ],
   "source": [
    "import random \n",
    "import timeit\n",
    "from mpi4py import MPI\n",
    "\n",
    "COMM = MPI.COMM_WORLD\n",
    "rank=COMM.Get_rank()\n",
    "p=COMM.Get_size()\n",
    "\n",
    "inter= 10000\n",
    "nbi=int(inter/p)\n",
    "if p==rank+1:\n",
    "    nbi=nbi+(inter)%p\n",
    "\n",
    "\n",
    "def génération_des_points():\n",
    "    random.seed(42)  \n",
    "    pc= 0\n",
    "    for i in range(nbi): \n",
    "        rand_x= random.uniform(-1, 1) \n",
    "        rand_y= random.uniform(-1, 1) \n",
    "        odist = rand_x**2 + rand_y**2  \n",
    "        if odist<= 1: \n",
    "            pc+= 1\n",
    "    return pc\n",
    "\n",
    "start = timeit.default_timer()\n",
    "pc=génération_des_points()\n",
    "if rank==0:\n",
    "    total_cp=pc\n",
    "    for i in range(1,p):\n",
    "        pc=COMM.recv(source=i)\n",
    "        print(\"processeur\",rank,\"<---\",i)\n",
    "        total_cp+=pc\n",
    "else:\n",
    "    print(\"processeur\",rank,\"--->\",0)\n",
    "    COMM.send(pc,dest=0)\n",
    "end = timeit.default_timer()\n",
    "if rank==0:\n",
    "    pi = 4* total_cp/ (inter)\n",
    "    print(\"approche de Pi=\", pi,\"\\n\", \"le temp de l'exicution\",end-start) "
   ]
  },
  {
   "cell_type": "code",
   "execution_count": null,
   "metadata": {},
   "outputs": [],
   "source": []
  },
  {
   "cell_type": "code",
   "execution_count": null,
   "metadata": {},
   "outputs": [],
   "source": []
  }
 ],
 "metadata": {
  "kernelspec": {
   "display_name": "Python 3",
   "language": "python",
   "name": "python3"
  },
  "language_info": {
   "codemirror_mode": {
    "name": "ipython",
    "version": 3
   },
   "file_extension": ".py",
   "mimetype": "text/x-python",
   "name": "python",
   "nbconvert_exporter": "python",
   "pygments_lexer": "ipython3",
   "version": "3.8.5"
  }
 },
 "nbformat": 4,
 "nbformat_minor": 4
}
