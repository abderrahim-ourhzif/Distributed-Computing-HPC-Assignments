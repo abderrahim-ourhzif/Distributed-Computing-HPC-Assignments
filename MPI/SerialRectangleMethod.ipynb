{
 "cells": [
  {
   "cell_type": "code",
   "execution_count": 1,
   "metadata": {},
   "outputs": [
    {
     "name": "stdout",
     "output_type": "stream",
     "text": [
      "integrale calculer dans le processeure  0 égal -1.9902571753477738\n",
      "Integrale = -1.9902571753477738\n",
      "le temps de l'execution 0.004237344999999948\n"
     ]
    },
    {
     "data": {
      "image/png": "[encoded data removed]",
      "text/plain": [
       "<Figure size 432x288 with 1 Axes>"
      ]
     },
     "metadata": {
      "needs_background": "light"
     },
     "output_type": "display_data"
    }
   ],
   "source": [
    "\n",
    "import numpy as np\n",
    "import matplotlib.pyplot as plt\n",
    "from mpi4py import MPI\n",
    "import time\n",
    "\n",
    "COMM= MPI.COMM_WORLD\n",
    "Rank= COMM.Get_rank()\n",
    "p= COMM.Get_size()\n",
    "tag=99\n",
    "\n",
    "def itegrale_rectangle(x, y, nbi):\n",
    "    integrale =0.\n",
    "    for i in range(nbi):\n",
    "        integrale = integrale + y[i]*(x[i+1]-x[i])\n",
    "        \n",
    "    return integrale\n",
    "\n",
    "def plot_integrale(x, y, nbi):\n",
    "  \n",
    "    for i in range(nbi):\n",
    "          # dessin du rectangle\n",
    "        x_rect = [x[i], x[i], x[i+1], x[i+1], x[i]] # abscisses des sommets\n",
    "        y_rect = [0   , y[i], y[i]  , 0     , 0   ] # ordonnees des sommets\n",
    "        plt.plot(x_rect, y_rect,\"r\")\n",
    "        \n",
    "startime = time.process_time()\n",
    "Xmin = -3*np.pi/2\n",
    "Xmax = 3*np.pi/2\n",
    "nx = 40\n",
    "dx = (Xmax-Xmin)/(nx-1)\n",
    "nbi = int((nx-1)/p) \n",
    "if p==(Rank+1):   \n",
    "    nbi=nbi+(nx-1)%p\n",
    "    xmin = Xmin+(p-1)*nbi*dx\n",
    "    xmax = 3*np.pi/2 \n",
    "else:\n",
    "    \n",
    "    xmin =Xmin+Rank*nbi*dx\n",
    "    xmax =Xmin+nbi*dx\n",
    "\n",
    "x = np.linspace(xmin, xmax, nbi+1)\n",
    "y = np.cos(x)\n",
    "integrale = itegrale_rectangle(x, y, nbi)\n",
    "if Rank==0:\n",
    "    integrale_sum=integrale\n",
    "    print(\"integrale calculer dans le processeure \",Rank,\"égal\",integrale)\n",
    "    for i in range(1,p):\n",
    "        pc=COMM.recv(source=i,tag=tag)\n",
    "        print(\"processeur\",Rank,\"rcevoir un message de\",i)\n",
    "        integrale_sum+=integrale\n",
    "    print(\"Integrale =\", integrale_sum)\n",
    "else:\n",
    "    print(\"processeur\",Rank,\"envoiyer un message à\",\"le processeur\",0)\n",
    "    print(\"integral calculer dans le processure \",Rank,\"égal\",integrale)\n",
    "    COMM.send(integrale,dest=0,tag=tag)\n",
    "endtime= time.process_time()\n",
    "print(\"le temps de l'execution\",endtime-startime)\n",
    "\n",
    "plot_integrale(x, y, nbi)\n",
    "plt.plot(x,y)\n",
    "plt.plot(x,y,'bo-')   \n",
    "plt.show()"
   ]
  },
  {
   "cell_type": "code",
   "execution_count": null,
   "metadata": {},
   "outputs": [],
   "source": []
  }
 ],
 "metadata": {
  "kernelspec": {
   "display_name": "Python 3",
   "language": "python",
   "name": "python3"
  },
  "language_info": {
   "codemirror_mode": {
    "name": "ipython",
    "version": 3
   },
   "file_extension": ".py",
   "mimetype": "text/x-python",
   "name": "python",
   "nbconvert_exporter": "python",
   "pygments_lexer": "ipython3",
   "version": "3.8.5"
  }
 },
 "nbformat": 4,
 "nbformat_minor": 4
}
