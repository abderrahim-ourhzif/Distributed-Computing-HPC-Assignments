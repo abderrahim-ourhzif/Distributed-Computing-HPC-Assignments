{
 "cells": [
  {
   "cell_type": "code",
   "execution_count": 1,
   "metadata": {},
   "outputs": [
    {
     "name": "stdout",
     "output_type": "stream",
     "text": [
      "integral de  0.0 à 4.71238898038469 total -0.9948685571761535 \n",
      "\n",
      "le temps de l'execution 0.0019473670000000887\n"
     ]
    },
    {
     "data": {
      "image/png": "[encoded data removed]",
      "text/plain": [
       "<Figure size 432x288 with 1 Axes>"
      ]
     },
     "metadata": {
      "needs_background": "light"
     },
     "output_type": "display_data"
    }
   ],
   "source": [
    "#!/usr/bin/env python3\n",
    "# -*- coding: utf-8 -*-\n",
    "\"\"\"\n",
    "Created on Wed Dec  9 15:10:56 2020\n",
    "\n",
    "@author: ourhzif abderrahim\n",
    "\"\"\"\n",
    "\n",
    "import numpy as np\n",
    "import matplotlib.pyplot as plt\n",
    "from mpi4py import MPI\n",
    "import time\n",
    "\n",
    "COMM=MPI.COMM_WORLD\n",
    "p=COMM.Get_size()\n",
    "Rank=COMM.Get_rank()\n",
    "tag=99\n",
    "\n",
    "\n",
    "def compute_integrale_trapeze(x, y, nbi):\n",
    "\n",
    "    integrale = 0.\n",
    "    for i in range(nbi):\n",
    "        trap = (x[i+1]-x[i])/2 * (y[i]+y[i+1])\n",
    "        integrale = integrale + trap\n",
    "                \n",
    "    return integrale\n",
    "\n",
    "def plot_integrale(x, y, nbi):\n",
    "    for i in range(nbi):\n",
    "        # dessin du rectangle\n",
    "        x_trap = [x[i], x[i], x[i+1], x[i+1], x[i]] # abscisses des sommets\n",
    "        y_trap = [0   , y[i], y[i+1],      0,        0   ] # ordonnees des sommets\n",
    "        plt.plot(x_trap, y_trap,\"r\")\n",
    "    \n",
    "    return 0\n",
    "startime = time.process_time()    \n",
    "xmin = 0\n",
    "xmax = 3*np.pi/2\n",
    "nbx = 20\n",
    "nbi = nbx - 1 # nombre d'intervalles\n",
    "dx = (xmax-xmin)/nbi\n",
    "nbr = int((nbi)/p) \n",
    "if p==(Rank+1):   \n",
    "    nbr=nbr+(nbi)%p\n",
    "    xmin = xmin+(p-1)*nbr*dx\n",
    "    xmax = 3*np.pi/2 \n",
    "else:\n",
    "    \n",
    "    xmin =xmin+Rank*nbr*dx\n",
    "    xmax =xmin+nbr*dx\n",
    "x = np.linspace(xmin, xmax, nbr+1)\n",
    "y = np.cos(x)\n",
    "integral=compute_integrale_trapeze(x,y,nbr)\n",
    "\n",
    "if (Rank==0):\n",
    "    total=integral\n",
    "    for i in range(1,p):\n",
    "        integral=COMM.recv(source=i,tag=tag)\n",
    "        total=total+integral\n",
    "    print(\"integral de \",xmin,\"à\",xmax,\"total\",total,\"\\n\")\n",
    "    \n",
    "else :\n",
    "    COMM.send(integral,dest=0,tag=tag)\n",
    "\n",
    "endtime= time.process_time()\n",
    "print(\"le temps de l'execution\",endtime-startime)\n",
    "plt.plot(x,y,\"bo-\")\n",
    "plot_integrale(x, y, nbr)   \n",
    "    \n",
    "\n",
    "\n",
    "plt.show()"
   ]
  },
  {
   "cell_type": "code",
   "execution_count": null,
   "metadata": {},
   "outputs": [],
   "source": []
  }
 ],
 "metadata": {
  "kernelspec": {
   "display_name": "Python 3",
   "language": "python",
   "name": "python3"
  },
  "language_info": {
   "codemirror_mode": {
    "name": "ipython",
    "version": 3
   },
   "file_extension": ".py",
   "mimetype": "text/x-python",
   "name": "python",
   "nbconvert_exporter": "python",
   "pygments_lexer": "ipython3",
   "version": "3.8.5"
  }
 },
 "nbformat": 4,
 "nbformat_minor": 4
}
